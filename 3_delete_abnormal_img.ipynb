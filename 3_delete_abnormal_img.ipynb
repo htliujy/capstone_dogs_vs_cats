{
 "cells": [
  {
   "cell_type": "markdown",
   "metadata": {},
   "source": [
    "去掉异常图片"
   ]
  },
  {
   "cell_type": "code",
   "execution_count": 1,
   "metadata": {},
   "outputs": [],
   "source": [
    "import data_process\n",
    "import os\n",
    "import shutil\n",
    "import glob"
   ]
  },
  {
   "cell_type": "markdown",
   "metadata": {},
   "source": [
    "手工复制异常图片后删除"
   ]
  },
  {
   "cell_type": "code",
   "execution_count": 2,
   "metadata": {},
   "outputs": [],
   "source": [
    "cats_path = 'processed_train_data/cats'\n",
    "dogs_path = 'processed_train_data/dogs'\n"
   ]
  },
  {
   "cell_type": "markdown",
   "metadata": {},
   "source": [
    "在top100预测不到的所有49张图片中，如下图片仍然保留（保留15张，删除34张）："
   ]
  },
  {
   "cell_type": "code",
   "execution_count": 3,
   "metadata": {},
   "outputs": [
    {
     "data": {
      "text/plain": [
       "\"\\n'cat.11399.jpg',\\n'cat.9622.jpg',\\n'cat.6699.jpg',\\n'cat.11661.jpg',\\n'cat.4852.jpg', \\n'cat.6442.jpg', \\n'cat.3637.jpg', \\n'cat.8087.jpg',\\n'cat.169.jpg', \\n'cat.9494.jpg', \\n'cat.11879.jpg', \\n'cat.11297.jpg',\\n'cat.3123.jpg', \\n'cat.252.jpg',\\n'cat.2924.jpg',\\n\""
      ]
     },
     "execution_count": 3,
     "metadata": {},
     "output_type": "execute_result"
    }
   ],
   "source": [
    "exception_cats = ['cat.10700.jpg', 'cat.2150.jpg', 'cat.10636.jpg', 'cat.5351.jpg', 'cat.9090.jpg', \n",
    "                  'cat.7968.jpg', 'cat.7564.jpg', 'cat.9290.jpg', 'cat.6345.jpg', 'cat.2939.jpg', \n",
    "                  'cat.3672.jpg',   'cat.10536.jpg', 'cat.10365.jpg', \n",
    "                   'cat.2663.jpg',  'cat.12227.jpg', \n",
    "                  'cat.2520.jpg', 'cat.11184.jpg', 'cat.11565.jpg', \n",
    "                   'cat.2337.jpg', 'cat.12272.jpg', \n",
    "                  'cat.5418.jpg', 'cat.4338.jpg',  'cat.5583.jpg', \n",
    "                  'cat.8921.jpg', 'cat.7377.jpg', 'cat.5820.jpg', 'cat.372.jpg', \n",
    "                  'cat.10712.jpg', 'cat.9552.jpg', 'cat.9171.jpg', 'cat.2457.jpg', 'cat.4986.jpg', \n",
    "                  'cat.4308.jpg', 'cat.8456.jpg']\n",
    "# 在top100预测不到的所有49张图片中，如下图片仍然保留（保留15张，删除34张）：\n",
    "\"\"\"\n",
    "'cat.11399.jpg',\n",
    "'cat.9622.jpg',\n",
    "'cat.6699.jpg',\n",
    "'cat.11661.jpg',\n",
    "'cat.4852.jpg', \n",
    "'cat.6442.jpg', \n",
    "'cat.3637.jpg', \n",
    "'cat.8087.jpg',\n",
    "'cat.169.jpg', \n",
    "'cat.9494.jpg', \n",
    "'cat.11879.jpg', \n",
    "'cat.11297.jpg',\n",
    "'cat.3123.jpg', \n",
    "'cat.252.jpg',\n",
    "'cat.2924.jpg',\n",
    "\"\"\""
   ]
  },
  {
   "cell_type": "markdown",
   "metadata": {},
   "source": [
    "在top20预测不到的所有40张图片中，如下图片仍然保留（保留7张，删除33张）"
   ]
  },
  {
   "cell_type": "code",
   "execution_count": 4,
   "metadata": {},
   "outputs": [
    {
     "data": {
      "text/plain": [
       "\"\\n'dog.7706.jpg',\\n'dog.12155.jpg', \\n'dog.10225.jpg',\\n'dog.806.jpg', \\n'dog.1625.jpg',\\n'dog.6028.jpg',\\n'dog.2339.jpg'\\n\""
      ]
     },
     "execution_count": 4,
     "metadata": {},
     "output_type": "execute_result"
    }
   ],
   "source": [
    "exception_dogs =  ['dog.11299.jpg', 'dog.9681.jpg',  'dog.1043.jpg', 'dog.5336.jpg', \n",
    "                   'dog.8736.jpg', 'dog.11437.jpg', 'dog.4367.jpg', 'dog.1259.jpg', \n",
    "                   'dog.5604.jpg',  'dog.10190.jpg', 'dog.10161.jpg', 'dog.4507.jpg', \n",
    "                   'dog.3035.jpg', 'dog.6725.jpg', 'dog.9418.jpg', 'dog.729.jpg', 'dog.59.jpg', \n",
    "                   'dog.1773.jpg', 'dog.7076.jpg', 'dog.4218.jpg', 'dog.1194.jpg', \n",
    "                   'dog.2422.jpg', 'dog.9517.jpg', 'dog.1895.jpg', 'dog.10801.jpg', 'dog.12376.jpg', \n",
    "                   'dog.6405.jpg', 'dog.10747.jpg', 'dog.6475.jpg',  'dog.2614.jpg', \n",
    "                   'dog.10237.jpg',  'dog.3497.jpg', 'dog.11266.jpg']\n",
    "# 在top20预测不到的所有40张图片中，如下图片仍然保留（保留7张，删除33张）：\n",
    "\"\"\"\n",
    "'dog.7706.jpg',\n",
    "'dog.12155.jpg', \n",
    "'dog.10225.jpg',\n",
    "'dog.806.jpg', \n",
    "'dog.1625.jpg',\n",
    "'dog.6028.jpg',\n",
    "'dog.2339.jpg'\n",
    "\"\"\""
   ]
  },
  {
   "cell_type": "code",
   "execution_count": 5,
   "metadata": {},
   "outputs": [],
   "source": [
    "def remove_file(path,file_list):\n",
    "    for fname in file_list:\n",
    "        file = os.path.join(path, fname)\n",
    "        if os.path.exists(file):\n",
    "            os.remove(file)"
   ]
  },
  {
   "cell_type": "code",
   "execution_count": 6,
   "metadata": {},
   "outputs": [],
   "source": [
    "remove_file(cats_path,exception_cats)"
   ]
  },
  {
   "cell_type": "code",
   "execution_count": 7,
   "metadata": {},
   "outputs": [],
   "source": [
    "remove_file(dogs_path,exception_dogs)"
   ]
  },
  {
   "cell_type": "code",
   "execution_count": null,
   "metadata": {},
   "outputs": [],
   "source": []
  }
 ],
 "metadata": {
  "kernelspec": {
   "display_name": "Python [default]",
   "language": "python",
   "name": "python3"
  },
  "language_info": {
   "codemirror_mode": {
    "name": "ipython",
    "version": 3
   },
   "file_extension": ".py",
   "mimetype": "text/x-python",
   "name": "python",
   "nbconvert_exporter": "python",
   "pygments_lexer": "ipython3",
   "version": "3.6.3"
  }
 },
 "nbformat": 4,
 "nbformat_minor": 2
}
