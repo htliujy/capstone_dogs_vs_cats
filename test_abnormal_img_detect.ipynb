{
 "cells": [
  {
   "cell_type": "code",
   "execution_count": 1,
   "metadata": {},
   "outputs": [
    {
     "data": {
      "text/plain": [
       "3200"
      ]
     },
     "execution_count": 1,
     "metadata": {},
     "output_type": "execute_result"
    }
   ],
   "source": [
    "4000-800"
   ]
  },
  {
   "cell_type": "code",
   "execution_count": 2,
   "metadata": {},
   "outputs": [
    {
     "data": {
      "text/plain": [
       "1600"
      ]
     },
     "execution_count": 2,
     "metadata": {},
     "output_type": "execute_result"
    }
   ],
   "source": [
    "1600"
   ]
  },
  {
   "cell_type": "code",
   "execution_count": 3,
   "metadata": {},
   "outputs": [
    {
     "name": "stderr",
     "output_type": "stream",
     "text": [
      "Using TensorFlow backend.\n"
     ]
    }
   ],
   "source": [
    "import os\n",
    "import glob\n",
    "\n",
    "from keras.models import Sequential\n",
    "from keras.layers.core import Flatten, Dense, Dropout\n",
    "from keras.layers.convolutional import Convolution2D, MaxPooling2D, ZeroPadding2D\n",
    "from keras.optimizers import SGD\n",
    "import cv2, numpy as np"
   ]
  },
  {
   "cell_type": "markdown",
   "metadata": {},
   "source": [
    "使用"
   ]
  },
  {
   "cell_type": "code",
   "execution_count": 4,
   "metadata": {
    "collapsed": true
   },
   "outputs": [],
   "source": [
    "def VGG_16(weights_path=None):\n",
    "\n",
    "    model = Sequential()\n",
    "\n",
    "    model.add(ZeroPadding2D((1,1),input_shape=(3,224,224)))\n",
    "\n",
    "    model.add(Convolution2D(64, 3, 3, activation='relu'))\n",
    "\n",
    "    model.add(ZeroPadding2D((1,1)))\n",
    "\n",
    "    model.add(Convolution2D(64, 3, 3, activation='relu'))\n",
    "\n",
    "    model.add(MaxPooling2D((2,2), strides=(2,2)))\n",
    "\n",
    "\n",
    "\n",
    "    model.add(ZeroPadding2D((1,1)))\n",
    "\n",
    "    model.add(Convolution2D(128, 3, 3, activation='relu'))\n",
    "\n",
    "    model.add(ZeroPadding2D((1,1)))\n",
    "\n",
    "    model.add(Convolution2D(128, 3, 3, activation='relu'))\n",
    "\n",
    "    model.add(MaxPooling2D((2,2), strides=(2,2)))\n",
    "\n",
    "\n",
    "    model.add(ZeroPadding2D((1,1)))\n",
    "\n",
    "    model.add(Convolution2D(256, 3, 3, activation='relu'))\n",
    "\n",
    "    model.add(ZeroPadding2D((1,1)))\n",
    "\n",
    "    model.add(Convolution2D(256, 3, 3, activation='relu'))\n",
    "\n",
    "    model.add(ZeroPadding2D((1,1)))\n",
    "\n",
    "    model.add(Convolution2D(256, 3, 3, activation='relu'))\n",
    "\n",
    "    model.add(MaxPooling2D((2,2), strides=(2,2)))\n",
    "\n",
    "\n",
    "    model.add(ZeroPadding2D((1,1)))\n",
    "\n",
    "    model.add(Convolution2D(512, 3, 3, activation='relu'))\n",
    "\n",
    "    model.add(ZeroPadding2D((1,1)))\n",
    "\n",
    "    model.add(Convolution2D(512, 3, 3, activation='relu'))\n",
    "\n",
    "    model.add(ZeroPadding2D((1,1)))\n",
    "\n",
    "    model.add(Convolution2D(512, 3, 3, activation='relu'))\n",
    "\n",
    "    model.add(MaxPooling2D((2,2), strides=(2,2)))\n",
    "\n",
    "\n",
    "    model.add(ZeroPadding2D((1,1)))\n",
    "\n",
    "    model.add(Convolution2D(512, 3, 3, activation='relu'))\n",
    "\n",
    "    model.add(ZeroPadding2D((1,1)))\n",
    "\n",
    "    model.add(Convolution2D(512, 3, 3, activation='relu'))\n",
    "\n",
    "    model.add(ZeroPadding2D((1,1)))\n",
    "\n",
    "    model.add(Convolution2D(512, 3, 3, activation='relu'))\n",
    "\n",
    "    model.add(MaxPooling2D((2,2), strides=(2,2)))\n",
    "\n",
    "\n",
    "    model.add(Flatten())\n",
    "\n",
    "    model.add(Dense(4096, activation='relu'))\n",
    "\n",
    "    model.add(Dropout(0.5))\n",
    "\n",
    "    model.add(Dense(4096, activation='relu'))\n",
    "\n",
    "    model.add(Dropout(0.5))\n",
    "\n",
    "    model.add(Dense(1000, activation='softmax'))\n",
    "\n",
    "\n",
    "    if weights_path:\n",
    "\n",
    "        model.load_weights(weights_path)\n",
    "\n",
    "\n",
    "    return model"
   ]
  },
  {
   "cell_type": "code",
   "execution_count": null,
   "metadata": {
    "collapsed": true
   },
   "outputs": [],
   "source": []
  }
 ],
 "metadata": {
  "kernelspec": {
   "display_name": "Python 3",
   "language": "python",
   "name": "python3"
  },
  "language_info": {
   "codemirror_mode": {
    "name": "ipython",
    "version": 3
   },
   "file_extension": ".py",
   "mimetype": "text/x-python",
   "name": "python",
   "nbconvert_exporter": "python",
   "pygments_lexer": "ipython3",
   "version": "3.6.2"
  }
 },
 "nbformat": 4,
 "nbformat_minor": 2
}
