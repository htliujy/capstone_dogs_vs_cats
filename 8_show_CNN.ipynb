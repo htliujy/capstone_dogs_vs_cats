{
 "cells": [
  {
   "cell_type": "code",
   "execution_count": 1,
   "metadata": {},
   "outputs": [
    {
     "name": "stderr",
     "output_type": "stream",
     "text": [
      "Using TensorFlow backend.\n"
     ]
    }
   ],
   "source": [
    "from keras.preprocessing.image import ImageDataGenerator\n",
    "from keras import applications\n",
    "from keras.applications.xception import preprocess_input\n",
    "from keras.models import Model\n",
    "from keras.layers import Input, Dense, GlobalAveragePooling2D, Flatten,Dropout"
   ]
  },
  {
   "cell_type": "code",
   "execution_count": 2,
   "metadata": {
    "collapsed": true
   },
   "outputs": [],
   "source": [
    "img_size_in =(299,299,3)\n",
    "x_tensor = Input(img_size_in)\n",
    "xception_model = applications.Xception(weights=None, input_shape=(299, 299, 3),include_top=False,pooling='avg')"
   ]
  },
  {
   "cell_type": "code",
   "execution_count": 3,
   "metadata": {
    "collapsed": true
   },
   "outputs": [],
   "source": [
    "\n",
    "x = Dropout(0.85)(xception_model(x_tensor))\n",
    "\n",
    "x = Dense(512, activation='relu')(x)\n",
    "x = Dropout(0.85)(x)\n",
    "outlayer = Dense(1, activation='sigmoid')(x)\n",
    "\n",
    "model = Model(inputs=x_tensor, outputs=outlayer)"
   ]
  },
  {
   "cell_type": "code",
   "execution_count": 4,
   "metadata": {},
   "outputs": [
    {
     "data": {
      "image/svg+xml": [
       "<svg height=\"458pt\" viewBox=\"0.00 0.00 317.68 458.00\" width=\"318pt\" xmlns=\"http://www.w3.org/2000/svg\" xmlns:xlink=\"http://www.w3.org/1999/xlink\">\n",
       "<g class=\"graph\" id=\"graph0\" transform=\"scale(1 1) rotate(0) translate(4 454)\">\n",
       "<title>G</title>\n",
       "<polygon fill=\"#ffffff\" points=\"-4,4 -4,-454 313.6797,-454 313.6797,4 -4,4\" stroke=\"transparent\"/>\n",
       "<!-- 4738929944 -->\n",
       "<g class=\"node\" id=\"node1\">\n",
       "<title>4738929944</title>\n",
       "<polygon fill=\"none\" points=\"0,-405.5 0,-449.5 309.6797,-449.5 309.6797,-405.5 0,-405.5\" stroke=\"#000000\"/>\n",
       "<text fill=\"#000000\" font-family=\"Times,serif\" font-size=\"14.00\" text-anchor=\"middle\" x=\"64.1812\" y=\"-423.3\">input_1: InputLayer</text>\n",
       "<polyline fill=\"none\" points=\"128.3623,-405.5 128.3623,-449.5 \" stroke=\"#000000\"/>\n",
       "<text fill=\"#000000\" font-family=\"Times,serif\" font-size=\"14.00\" text-anchor=\"middle\" x=\"156.1968\" y=\"-434.3\">input:</text>\n",
       "<polyline fill=\"none\" points=\"128.3623,-427.5 184.0313,-427.5 \" stroke=\"#000000\"/>\n",
       "<text fill=\"#000000\" font-family=\"Times,serif\" font-size=\"14.00\" text-anchor=\"middle\" x=\"156.1968\" y=\"-412.3\">output:</text>\n",
       "<polyline fill=\"none\" points=\"184.0313,-405.5 184.0313,-449.5 \" stroke=\"#000000\"/>\n",
       "<text fill=\"#000000\" font-family=\"Times,serif\" font-size=\"14.00\" text-anchor=\"middle\" x=\"246.8555\" y=\"-434.3\">(None, 299, 299, 3)</text>\n",
       "<polyline fill=\"none\" points=\"184.0313,-427.5 309.6797,-427.5 \" stroke=\"#000000\"/>\n",
       "<text fill=\"#000000\" font-family=\"Times,serif\" font-size=\"14.00\" text-anchor=\"middle\" x=\"246.8555\" y=\"-412.3\">(None, 299, 299, 3)</text>\n",
       "</g>\n",
       "<!-- 4766851368 -->\n",
       "<g class=\"node\" id=\"node2\">\n",
       "<title>4766851368</title>\n",
       "<polygon fill=\"none\" points=\"10.1069,-324.5 10.1069,-368.5 299.5728,-368.5 299.5728,-324.5 10.1069,-324.5\" stroke=\"#000000\"/>\n",
       "<text fill=\"#000000\" font-family=\"Times,serif\" font-size=\"14.00\" text-anchor=\"middle\" x=\"64.1812\" y=\"-342.3\">xception: Model</text>\n",
       "<polyline fill=\"none\" points=\"118.2554,-324.5 118.2554,-368.5 \" stroke=\"#000000\"/>\n",
       "<text fill=\"#000000\" font-family=\"Times,serif\" font-size=\"14.00\" text-anchor=\"middle\" x=\"146.0898\" y=\"-353.3\">input:</text>\n",
       "<polyline fill=\"none\" points=\"118.2554,-346.5 173.9243,-346.5 \" stroke=\"#000000\"/>\n",
       "<text fill=\"#000000\" font-family=\"Times,serif\" font-size=\"14.00\" text-anchor=\"middle\" x=\"146.0898\" y=\"-331.3\">output:</text>\n",
       "<polyline fill=\"none\" points=\"173.9243,-324.5 173.9243,-368.5 \" stroke=\"#000000\"/>\n",
       "<text fill=\"#000000\" font-family=\"Times,serif\" font-size=\"14.00\" text-anchor=\"middle\" x=\"236.7485\" y=\"-353.3\">(None, 299, 299, 3)</text>\n",
       "<polyline fill=\"none\" points=\"173.9243,-346.5 299.5728,-346.5 \" stroke=\"#000000\"/>\n",
       "<text fill=\"#000000\" font-family=\"Times,serif\" font-size=\"14.00\" text-anchor=\"middle\" x=\"236.7485\" y=\"-331.3\">(None, 2048)</text>\n",
       "</g>\n",
       "<!-- 4738929944&#45;&gt;4766851368 -->\n",
       "<g class=\"edge\" id=\"edge1\">\n",
       "<title>4738929944-&gt;4766851368</title>\n",
       "<path d=\"M154.8398,-405.3664C154.8398,-397.1516 154.8398,-387.6579 154.8398,-378.7252\" fill=\"none\" stroke=\"#000000\"/>\n",
       "<polygon fill=\"#000000\" points=\"158.3399,-378.6068 154.8398,-368.6068 151.3399,-378.6069 158.3399,-378.6068\" stroke=\"#000000\"/>\n",
       "</g>\n",
       "<!-- 4767285088 -->\n",
       "<g class=\"node\" id=\"node3\">\n",
       "<title>4767285088</title>\n",
       "<polygon fill=\"none\" points=\"17.8794,-243.5 17.8794,-287.5 291.8003,-287.5 291.8003,-243.5 17.8794,-243.5\" stroke=\"#000000\"/>\n",
       "<text fill=\"#000000\" font-family=\"Times,serif\" font-size=\"14.00\" text-anchor=\"middle\" x=\"81.6812\" y=\"-261.3\">dropout_1: Dropout</text>\n",
       "<polyline fill=\"none\" points=\"145.4829,-243.5 145.4829,-287.5 \" stroke=\"#000000\"/>\n",
       "<text fill=\"#000000\" font-family=\"Times,serif\" font-size=\"14.00\" text-anchor=\"middle\" x=\"173.3174\" y=\"-272.3\">input:</text>\n",
       "<polyline fill=\"none\" points=\"145.4829,-265.5 201.1519,-265.5 \" stroke=\"#000000\"/>\n",
       "<text fill=\"#000000\" font-family=\"Times,serif\" font-size=\"14.00\" text-anchor=\"middle\" x=\"173.3174\" y=\"-250.3\">output:</text>\n",
       "<polyline fill=\"none\" points=\"201.1519,-243.5 201.1519,-287.5 \" stroke=\"#000000\"/>\n",
       "<text fill=\"#000000\" font-family=\"Times,serif\" font-size=\"14.00\" text-anchor=\"middle\" x=\"246.4761\" y=\"-272.3\">(None, 2048)</text>\n",
       "<polyline fill=\"none\" points=\"201.1519,-265.5 291.8003,-265.5 \" stroke=\"#000000\"/>\n",
       "<text fill=\"#000000\" font-family=\"Times,serif\" font-size=\"14.00\" text-anchor=\"middle\" x=\"246.4761\" y=\"-250.3\">(None, 2048)</text>\n",
       "</g>\n",
       "<!-- 4766851368&#45;&gt;4767285088 -->\n",
       "<g class=\"edge\" id=\"edge2\">\n",
       "<title>4766851368-&gt;4767285088</title>\n",
       "<path d=\"M154.8398,-324.3664C154.8398,-316.1516 154.8398,-306.6579 154.8398,-297.7252\" fill=\"none\" stroke=\"#000000\"/>\n",
       "<polygon fill=\"#000000\" points=\"158.3399,-297.6068 154.8398,-287.6068 151.3399,-297.6069 158.3399,-297.6068\" stroke=\"#000000\"/>\n",
       "</g>\n",
       "<!-- 4767285144 -->\n",
       "<g class=\"node\" id=\"node4\">\n",
       "<title>4767285144</title>\n",
       "<polygon fill=\"none\" points=\"29.5552,-162.5 29.5552,-206.5 280.1245,-206.5 280.1245,-162.5 29.5552,-162.5\" stroke=\"#000000\"/>\n",
       "<text fill=\"#000000\" font-family=\"Times,serif\" font-size=\"14.00\" text-anchor=\"middle\" x=\"81.6812\" y=\"-180.3\">dense_1: Dense</text>\n",
       "<polyline fill=\"none\" points=\"133.8071,-162.5 133.8071,-206.5 \" stroke=\"#000000\"/>\n",
       "<text fill=\"#000000\" font-family=\"Times,serif\" font-size=\"14.00\" text-anchor=\"middle\" x=\"161.6416\" y=\"-191.3\">input:</text>\n",
       "<polyline fill=\"none\" points=\"133.8071,-184.5 189.4761,-184.5 \" stroke=\"#000000\"/>\n",
       "<text fill=\"#000000\" font-family=\"Times,serif\" font-size=\"14.00\" text-anchor=\"middle\" x=\"161.6416\" y=\"-169.3\">output:</text>\n",
       "<polyline fill=\"none\" points=\"189.4761,-162.5 189.4761,-206.5 \" stroke=\"#000000\"/>\n",
       "<text fill=\"#000000\" font-family=\"Times,serif\" font-size=\"14.00\" text-anchor=\"middle\" x=\"234.8003\" y=\"-191.3\">(None, 2048)</text>\n",
       "<polyline fill=\"none\" points=\"189.4761,-184.5 280.1245,-184.5 \" stroke=\"#000000\"/>\n",
       "<text fill=\"#000000\" font-family=\"Times,serif\" font-size=\"14.00\" text-anchor=\"middle\" x=\"234.8003\" y=\"-169.3\">(None, 512)</text>\n",
       "</g>\n",
       "<!-- 4767285088&#45;&gt;4767285144 -->\n",
       "<g class=\"edge\" id=\"edge3\">\n",
       "<title>4767285088-&gt;4767285144</title>\n",
       "<path d=\"M154.8398,-243.3664C154.8398,-235.1516 154.8398,-225.6579 154.8398,-216.7252\" fill=\"none\" stroke=\"#000000\"/>\n",
       "<polygon fill=\"#000000\" points=\"158.3399,-216.6068 154.8398,-206.6068 151.3399,-216.6069 158.3399,-216.6068\" stroke=\"#000000\"/>\n",
       "</g>\n",
       "<!-- 4767416448 -->\n",
       "<g class=\"node\" id=\"node5\">\n",
       "<title>4767416448</title>\n",
       "<polygon fill=\"none\" points=\"21.3794,-81.5 21.3794,-125.5 288.3003,-125.5 288.3003,-81.5 21.3794,-81.5\" stroke=\"#000000\"/>\n",
       "<text fill=\"#000000\" font-family=\"Times,serif\" font-size=\"14.00\" text-anchor=\"middle\" x=\"85.1812\" y=\"-99.3\">dropout_2: Dropout</text>\n",
       "<polyline fill=\"none\" points=\"148.9829,-81.5 148.9829,-125.5 \" stroke=\"#000000\"/>\n",
       "<text fill=\"#000000\" font-family=\"Times,serif\" font-size=\"14.00\" text-anchor=\"middle\" x=\"176.8174\" y=\"-110.3\">input:</text>\n",
       "<polyline fill=\"none\" points=\"148.9829,-103.5 204.6519,-103.5 \" stroke=\"#000000\"/>\n",
       "<text fill=\"#000000\" font-family=\"Times,serif\" font-size=\"14.00\" text-anchor=\"middle\" x=\"176.8174\" y=\"-88.3\">output:</text>\n",
       "<polyline fill=\"none\" points=\"204.6519,-81.5 204.6519,-125.5 \" stroke=\"#000000\"/>\n",
       "<text fill=\"#000000\" font-family=\"Times,serif\" font-size=\"14.00\" text-anchor=\"middle\" x=\"246.4761\" y=\"-110.3\">(None, 512)</text>\n",
       "<polyline fill=\"none\" points=\"204.6519,-103.5 288.3003,-103.5 \" stroke=\"#000000\"/>\n",
       "<text fill=\"#000000\" font-family=\"Times,serif\" font-size=\"14.00\" text-anchor=\"middle\" x=\"246.4761\" y=\"-88.3\">(None, 512)</text>\n",
       "</g>\n",
       "<!-- 4767285144&#45;&gt;4767416448 -->\n",
       "<g class=\"edge\" id=\"edge4\">\n",
       "<title>4767285144-&gt;4767416448</title>\n",
       "<path d=\"M154.8398,-162.3664C154.8398,-154.1516 154.8398,-144.6579 154.8398,-135.7252\" fill=\"none\" stroke=\"#000000\"/>\n",
       "<polygon fill=\"#000000\" points=\"158.3399,-135.6068 154.8398,-125.6068 151.3399,-135.6069 158.3399,-135.6068\" stroke=\"#000000\"/>\n",
       "</g>\n",
       "<!-- 4786658496 -->\n",
       "<g class=\"node\" id=\"node6\">\n",
       "<title>4786658496</title>\n",
       "<polygon fill=\"none\" points=\"33.0552,-.5 33.0552,-44.5 276.6245,-44.5 276.6245,-.5 33.0552,-.5\" stroke=\"#000000\"/>\n",
       "<text fill=\"#000000\" font-family=\"Times,serif\" font-size=\"14.00\" text-anchor=\"middle\" x=\"85.1812\" y=\"-18.3\">dense_2: Dense</text>\n",
       "<polyline fill=\"none\" points=\"137.3071,-.5 137.3071,-44.5 \" stroke=\"#000000\"/>\n",
       "<text fill=\"#000000\" font-family=\"Times,serif\" font-size=\"14.00\" text-anchor=\"middle\" x=\"165.1416\" y=\"-29.3\">input:</text>\n",
       "<polyline fill=\"none\" points=\"137.3071,-22.5 192.9761,-22.5 \" stroke=\"#000000\"/>\n",
       "<text fill=\"#000000\" font-family=\"Times,serif\" font-size=\"14.00\" text-anchor=\"middle\" x=\"165.1416\" y=\"-7.3\">output:</text>\n",
       "<polyline fill=\"none\" points=\"192.9761,-.5 192.9761,-44.5 \" stroke=\"#000000\"/>\n",
       "<text fill=\"#000000\" font-family=\"Times,serif\" font-size=\"14.00\" text-anchor=\"middle\" x=\"234.8003\" y=\"-29.3\">(None, 512)</text>\n",
       "<polyline fill=\"none\" points=\"192.9761,-22.5 276.6245,-22.5 \" stroke=\"#000000\"/>\n",
       "<text fill=\"#000000\" font-family=\"Times,serif\" font-size=\"14.00\" text-anchor=\"middle\" x=\"234.8003\" y=\"-7.3\">(None, 1)</text>\n",
       "</g>\n",
       "<!-- 4767416448&#45;&gt;4786658496 -->\n",
       "<g class=\"edge\" id=\"edge5\">\n",
       "<title>4767416448-&gt;4786658496</title>\n",
       "<path d=\"M154.8398,-81.3664C154.8398,-73.1516 154.8398,-63.6579 154.8398,-54.7252\" fill=\"none\" stroke=\"#000000\"/>\n",
       "<polygon fill=\"#000000\" points=\"158.3399,-54.6068 154.8398,-44.6068 151.3399,-54.6069 158.3399,-54.6068\" stroke=\"#000000\"/>\n",
       "</g>\n",
       "</g>\n",
       "</svg>"
      ],
      "text/plain": [
       "<IPython.core.display.SVG object>"
      ]
     },
     "execution_count": 4,
     "metadata": {},
     "output_type": "execute_result"
    }
   ],
   "source": [
    "from IPython.display import SVG\n",
    "from keras.utils.vis_utils import model_to_dot, plot_model\n",
    "\n",
    "plot_model(model, show_shapes=True, to_file='model.png')\n",
    "SVG(model_to_dot(model, show_shapes=True).create(prog='dot', format='svg'))"
   ]
  },
  {
   "cell_type": "code",
   "execution_count": null,
   "metadata": {
    "collapsed": true
   },
   "outputs": [],
   "source": []
  }
 ],
 "metadata": {
  "kernelspec": {
   "display_name": "Python 3",
   "language": "python",
   "name": "python3"
  },
  "language_info": {
   "codemirror_mode": {
    "name": "ipython",
    "version": 3
   },
   "file_extension": ".py",
   "mimetype": "text/x-python",
   "name": "python",
   "nbconvert_exporter": "python",
   "pygments_lexer": "ipython3",
   "version": "3.6.2"
  }
 },
 "nbformat": 4,
 "nbformat_minor": 2
}
