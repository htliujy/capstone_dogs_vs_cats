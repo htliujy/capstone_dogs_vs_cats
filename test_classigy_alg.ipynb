{
 "cells": [
  {
   "cell_type": "markdown",
   "metadata": {
    "collapsed": true
   },
   "source": [
    "使用已经导出的特征训练分类器"
   ]
  },
  {
   "cell_type": "code",
   "execution_count": 15,
   "metadata": {
    "collapsed": true
   },
   "outputs": [],
   "source": [
    "import h5py\n",
    "import numpy as np\n",
    "from sklearn.utils import shuffle\n",
    "np.random.seed(0)"
   ]
  },
  {
   "cell_type": "code",
   "execution_count": 16,
   "metadata": {
    "collapsed": true
   },
   "outputs": [],
   "source": [
    "train_features = []\n",
    "test_features = []\n",
    "train_labels = []\n",
    "\n",
    "with h5py.File(\"xception_bottleneck.h5\", 'r') as h:\n",
    "    train_features.append(np.array(h['train_features']))\n",
    "    test_features.append(np.array(h['test_features']))\n",
    "    train_labels = np.array(h['train_label'])"
   ]
  },
  {
   "cell_type": "code",
   "execution_count": 17,
   "metadata": {
    "collapsed": true
   },
   "outputs": [],
   "source": [
    "train_features = train_features[0]\n",
    "test_features = test_features[0]"
   ]
  },
  {
   "cell_type": "code",
   "execution_count": 18,
   "metadata": {},
   "outputs": [
    {
     "name": "stdout",
     "output_type": "stream",
     "text": [
      "train_features shape: (24998, 2048)\n",
      "test_features shape: (12500, 2048)\n",
      "train_labels shape: (24998,)\n"
     ]
    }
   ],
   "source": [
    "#验证数据集的形状是否正确\n",
    "print(\"train_features shape:\",np.shape(train_features))\n",
    "print(\"test_features shape:\",np.shape(test_features))\n",
    "print(\"train_labels shape:\",np.shape(train_labels))"
   ]
  },
  {
   "cell_type": "code",
   "execution_count": 19,
   "metadata": {
    "collapsed": true
   },
   "outputs": [],
   "source": [
    "#是否打乱\n",
    "#train_features, train_labels = shuffle(train_features, train_labels)"
   ]
  },
  {
   "cell_type": "markdown",
   "metadata": {},
   "source": []
  },
  {
   "cell_type": "code",
   "execution_count": 20,
   "metadata": {
    "collapsed": true
   },
   "outputs": [],
   "source": [
    "from keras.models import *\n",
    "from keras.layers import *\n",
    "\n",
    "input_tensor = Input(train_features.shape[1:])\n",
    "x = input_tensor\n",
    "x = Dropout(0.5)(x)\n",
    "x = Dense(1, activation='sigmoid')(x)\n",
    "model = Model(input_tensor, x)\n",
    "\n",
    "model.compile(optimizer='adadelta',\n",
    "              loss='binary_crossentropy',\n",
    "              metrics=['accuracy'])"
   ]
  },
  {
   "cell_type": "code",
   "execution_count": 21,
   "metadata": {},
   "outputs": [
    {
     "name": "stderr",
     "output_type": "stream",
     "text": [
      "/home/ubuntu/anaconda3/envs/tensorflow_p36/lib/python3.6/site-packages/ipykernel/__main__.py:1: UserWarning: The `nb_epoch` argument in `fit` has been renamed `epochs`.\n",
      "  if __name__ == '__main__':\n"
     ]
    },
    {
     "name": "stdout",
     "output_type": "stream",
     "text": [
      "Train on 19998 samples, validate on 5000 samples\n",
      "Epoch 1/20\n",
      "19998/19998 [==============================] - 1s 34us/step - loss: 3.9431 - acc: 0.5875 - val_loss: 5.9751 - val_acc: 0.3346\n",
      "Epoch 2/20\n",
      "19998/19998 [==============================] - 1s 30us/step - loss: 2.8867 - acc: 0.6095 - val_loss: 4.6601 - val_acc: 0.2574\n",
      "Epoch 3/20\n",
      "19998/19998 [==============================] - 1s 30us/step - loss: 1.7583 - acc: 0.6188 - val_loss: 0.1899 - val_acc: 0.9428\n",
      "Epoch 4/20\n",
      "19998/19998 [==============================] - 1s 30us/step - loss: 1.2352 - acc: 0.6179 - val_loss: 0.9657 - val_acc: 0.5882\n",
      "Epoch 5/20\n",
      "19998/19998 [==============================] - 1s 30us/step - loss: 1.0122 - acc: 0.6291 - val_loss: 2.3873 - val_acc: 0.1870\n",
      "Epoch 6/20\n",
      "19998/19998 [==============================] - 1s 30us/step - loss: 0.9214 - acc: 0.6340 - val_loss: 1.4774 - val_acc: 0.2932\n",
      "Epoch 7/20\n",
      "19998/19998 [==============================] - 1s 30us/step - loss: 0.8742 - acc: 0.6323 - val_loss: 4.1532 - val_acc: 0.0888\n",
      "Epoch 8/20\n",
      "19998/19998 [==============================] - 1s 30us/step - loss: 0.8162 - acc: 0.6381 - val_loss: 1.3297 - val_acc: 0.3372\n",
      "Epoch 9/20\n",
      "19998/19998 [==============================] - 1s 30us/step - loss: 0.8149 - acc: 0.6406 - val_loss: 0.4232 - val_acc: 0.8564\n",
      "Epoch 10/20\n",
      "19998/19998 [==============================] - 1s 30us/step - loss: 0.7711 - acc: 0.6476 - val_loss: 1.7886 - val_acc: 0.2056\n",
      "Epoch 11/20\n",
      "19998/19998 [==============================] - 1s 30us/step - loss: 0.7649 - acc: 0.6459 - val_loss: 2.0832 - val_acc: 0.1492\n",
      "Epoch 12/20\n",
      "19998/19998 [==============================] - 1s 30us/step - loss: 0.7591 - acc: 0.6392 - val_loss: 0.4190 - val_acc: 0.8638\n",
      "Epoch 13/20\n",
      "19998/19998 [==============================] - 1s 30us/step - loss: 0.7494 - acc: 0.6465 - val_loss: 0.6898 - val_acc: 0.6494\n",
      "Epoch 14/20\n",
      "19998/19998 [==============================] - 1s 30us/step - loss: 0.7782 - acc: 0.6417 - val_loss: 3.5238 - val_acc: 0.1160\n",
      "Epoch 15/20\n",
      "19998/19998 [==============================] - 1s 30us/step - loss: 0.7763 - acc: 0.6440 - val_loss: 2.9014 - val_acc: 0.1178\n",
      "Epoch 16/20\n",
      "19998/19998 [==============================] - 1s 30us/step - loss: 0.7450 - acc: 0.6494 - val_loss: 2.1351 - val_acc: 0.1386\n",
      "Epoch 17/20\n",
      "19998/19998 [==============================] - 1s 29us/step - loss: 0.6996 - acc: 0.6622 - val_loss: 0.3097 - val_acc: 0.9226\n",
      "Epoch 18/20\n",
      "19998/19998 [==============================] - 1s 30us/step - loss: 0.7667 - acc: 0.6447 - val_loss: 0.2329 - val_acc: 0.9602\n",
      "Epoch 19/20\n",
      "19998/19998 [==============================] - 1s 30us/step - loss: 0.7507 - acc: 0.6500 - val_loss: 0.7780 - val_acc: 0.5724\n",
      "Epoch 20/20\n",
      "19998/19998 [==============================] - 1s 30us/step - loss: 0.7572 - acc: 0.6532 - val_loss: 0.5225 - val_acc: 0.7814\n"
     ]
    },
    {
     "data": {
      "text/plain": [
       "<keras.callbacks.History at 0x7f61643a4dd8>"
      ]
     },
     "execution_count": 21,
     "metadata": {},
     "output_type": "execute_result"
    }
   ],
   "source": [
    "model.fit(train_features, train_labels, batch_size=128, nb_epoch=20, validation_split=0.2)"
   ]
  },
  {
   "cell_type": "code",
   "execution_count": null,
   "metadata": {
    "collapsed": true
   },
   "outputs": [],
   "source": []
  }
 ],
 "metadata": {
  "kernelspec": {
   "display_name": "Python 3",
   "language": "python",
   "name": "python3"
  },
  "language_info": {
   "codemirror_mode": {
    "name": "ipython",
    "version": 3
   },
   "file_extension": ".py",
   "mimetype": "text/x-python",
   "name": "python",
   "nbconvert_exporter": "python",
   "pygments_lexer": "ipython3",
   "version": "3.6.2"
  }
 },
 "nbformat": 4,
 "nbformat_minor": 2
}
