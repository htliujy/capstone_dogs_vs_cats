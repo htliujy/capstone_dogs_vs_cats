{
 "cells": [
  {
   "cell_type": "markdown",
   "metadata": {},
   "source": [
    "载入特征文件（）并建立网络，分类，进行训练，"
   ]
  },
  {
   "cell_type": "code",
   "execution_count": 1,
   "metadata": {
    "collapsed": true
   },
   "outputs": [],
   "source": [
    "import h5py\n",
    "import numpy as np\n",
    "from sklearn.utils import shuffle\n",
    "np.random.seed(0)"
   ]
  },
  {
   "cell_type": "code",
   "execution_count": 2,
   "metadata": {
    "collapsed": true
   },
   "outputs": [],
   "source": [
    "train_features = []\n",
    "test_features = []\n",
    "train_labels = []\n",
    "train_files = []\n",
    "\n",
    "train_files_temp = []\n",
    "with h5py.File(\"modelfile/xception_bottleneck.h5\", 'r') as h:\n",
    "    train_features.append(np.array(h['train_features']))\n",
    "    test_features.append(np.array(h['test_features']))\n",
    "    train_labels.append(np.array(h['train_label']))\n",
    "    train_files_temp.append(np.array(h['train_file_que']))"
   ]
  },
  {
   "cell_type": "code",
   "execution_count": 3,
   "metadata": {
    "collapsed": true
   },
   "outputs": [],
   "source": [
    "train_features = train_features[0]\n",
    "test_features = test_features[0]\n",
    "train_labels = train_labels[0]\n",
    "for file in train_files_temp[0]:\n",
    "    train_files.append(file.decode())"
   ]
  },
  {
   "cell_type": "code",
   "execution_count": 4,
   "metadata": {},
   "outputs": [
    {
     "name": "stdout",
     "output_type": "stream",
     "text": [
      "train_features shape: (60, 2048)\n",
      "test_features shape: (10, 2048)\n",
      "train_labels shape: (60,)\n",
      "train_features data type: float32\n"
     ]
    }
   ],
   "source": [
    "#验证数据集的形状是否正确\n",
    "print(\"train_features shape:\",np.shape(train_features))\n",
    "print(\"test_features shape:\",np.shape(test_features))\n",
    "print(\"train_labels shape:\",np.shape(train_labels))\n",
    "print(\"train_features data type:\",train_features.dtype)"
   ]
  },
  {
   "cell_type": "code",
   "execution_count": 5,
   "metadata": {
    "collapsed": true
   },
   "outputs": [],
   "source": [
    "#是否打乱\n",
    "train_features, train_labels,train_files = shuffle(train_features, train_labels,train_files)"
   ]
  },
  {
   "cell_type": "markdown",
   "metadata": {},
   "source": [
    "构建网络"
   ]
  },
  {
   "cell_type": "code",
   "execution_count": 2,
   "metadata": {},
   "outputs": [
    {
     "name": "stderr",
     "output_type": "stream",
     "text": [
      "Using TensorFlow backend.\n"
     ]
    }
   ],
   "source": [
    "from keras.layers import Input, Dropout, Dense\n",
    "from keras.models import Model\n",
    "from keras import optimizers\n",
    "from keras.callbacks import TensorBoard"
   ]
  },
  {
   "cell_type": "code",
   "execution_count": 7,
   "metadata": {
    "collapsed": true
   },
   "outputs": [],
   "source": [
    "inputlayer = Input(shape=(train_features.shape[1:]))"
   ]
  },
  {
   "cell_type": "code",
   "execution_count": 8,
   "metadata": {
    "collapsed": true
   },
   "outputs": [],
   "source": [
    "x = inputlayer\n",
    "\n",
    "x = Dropout(0.8)(x)\n",
    "\n",
    "x = Dense(512, activation='relu')(x)\n",
    "x = Dropout(0.8)(x)\n",
    "outlayer = Dense(1, kernel_initializer=\"glorot_uniform\", activation='sigmoid')(x)\n",
    "\n",
    "model = Model(inputs=inputlayer, outputs=outlayer)"
   ]
  },
  {
   "cell_type": "code",
   "execution_count": 9,
   "metadata": {},
   "outputs": [
    {
     "name": "stdout",
     "output_type": "stream",
     "text": [
      "Train on 48 samples, validate on 12 samples\n",
      "Epoch 1/20\n",
      "48/48 [==============================] - 0s 805us/step - loss: 0.9470 - acc: 0.4792 - val_loss: 0.7074 - val_acc: 0.5000\n",
      "Epoch 2/20\n",
      "48/48 [==============================] - 0s 432us/step - loss: 0.9424 - acc: 0.5208 - val_loss: 0.7001 - val_acc: 0.5000\n",
      "Epoch 3/20\n",
      "48/48 [==============================] - 0s 498us/step - loss: 0.9883 - acc: 0.5833 - val_loss: 0.6903 - val_acc: 0.5000\n",
      "Epoch 4/20\n",
      "48/48 [==============================] - 0s 549us/step - loss: 0.8778 - acc: 0.4583 - val_loss: 0.6782 - val_acc: 0.5833\n",
      "Epoch 5/20\n",
      "48/48 [==============================] - 0s 481us/step - loss: 0.8567 - acc: 0.5208 - val_loss: 0.6636 - val_acc: 0.5833\n",
      "Epoch 6/20\n",
      "48/48 [==============================] - 0s 404us/step - loss: 0.7602 - acc: 0.6458 - val_loss: 0.6473 - val_acc: 0.5833\n",
      "Epoch 7/20\n",
      "48/48 [==============================] - 0s 463us/step - loss: 0.9576 - acc: 0.4167 - val_loss: 0.6300 - val_acc: 0.7500\n",
      "Epoch 8/20\n",
      "48/48 [==============================] - 0s 385us/step - loss: 1.0448 - acc: 0.5208 - val_loss: 0.6126 - val_acc: 0.7500\n",
      "Epoch 9/20\n",
      "48/48 [==============================] - 0s 434us/step - loss: 0.9366 - acc: 0.5625 - val_loss: 0.5947 - val_acc: 0.8333\n",
      "Epoch 10/20\n",
      "48/48 [==============================] - 0s 459us/step - loss: 1.0223 - acc: 0.4792 - val_loss: 0.5772 - val_acc: 0.9167\n",
      "Epoch 11/20\n",
      "48/48 [==============================] - 0s 483us/step - loss: 0.7570 - acc: 0.5833 - val_loss: 0.5599 - val_acc: 0.9167\n",
      "Epoch 12/20\n",
      "48/48 [==============================] - 0s 524us/step - loss: 0.8551 - acc: 0.5833 - val_loss: 0.5436 - val_acc: 0.9167\n",
      "Epoch 13/20\n",
      "48/48 [==============================] - 0s 485us/step - loss: 0.8488 - acc: 0.4583 - val_loss: 0.5288 - val_acc: 0.9167\n",
      "Epoch 14/20\n",
      "48/48 [==============================] - 0s 460us/step - loss: 0.8412 - acc: 0.5625 - val_loss: 0.5139 - val_acc: 0.9167\n",
      "Epoch 15/20\n",
      "48/48 [==============================] - 0s 449us/step - loss: 0.6364 - acc: 0.6667 - val_loss: 0.4996 - val_acc: 0.9167\n",
      "Epoch 16/20\n",
      "48/48 [==============================] - 0s 465us/step - loss: 0.7564 - acc: 0.5417 - val_loss: 0.4864 - val_acc: 0.9167\n",
      "Epoch 17/20\n",
      "48/48 [==============================] - 0s 458us/step - loss: 0.6702 - acc: 0.6250 - val_loss: 0.4733 - val_acc: 0.9167\n",
      "Epoch 18/20\n",
      "48/48 [==============================] - 0s 451us/step - loss: 0.6561 - acc: 0.7292 - val_loss: 0.4606 - val_acc: 0.9167\n",
      "Epoch 19/20\n",
      "48/48 [==============================] - 0s 472us/step - loss: 0.9084 - acc: 0.6042 - val_loss: 0.4487 - val_acc: 0.9167\n",
      "Epoch 20/20\n",
      "48/48 [==============================] - 0s 562us/step - loss: 0.6261 - acc: 0.6458 - val_loss: 0.4380 - val_acc: 0.9167\n"
     ]
    }
   ],
   "source": [
    "#优化器参考：https://keras.io/optimizers/\n",
    "# Stochastic gradient descent optimizer.\n",
    "opt = optimizers.SGD(lr=0.005, momentum=0.9)\n",
    "model.compile(loss='binary_crossentropy', optimizer=opt, metrics=['accuracy'])\n",
    "model.fit(train_features,train_labels,epochs=30,verbose=1,validation_split=0.2, batch_size=128, callbacks=[TensorBoard(log_dir='./log')])\n",
    "model.save('modelfile/model.h5')"
   ]
  },
  {
   "cell_type": "code",
   "execution_count": 10,
   "metadata": {
    "collapsed": true
   },
   "outputs": [],
   "source": [
    "# 都预测为0.5的情况下，loss = 0.69314\n",
    "pred = model.predict(train_features, batch_size=None, verbose=0, steps=None)"
   ]
  },
  {
   "cell_type": "markdown",
   "metadata": {},
   "source": [
    "预测并打印对比真实标签和预测值"
   ]
  },
  {
   "cell_type": "code",
   "execution_count": 11,
   "metadata": {},
   "outputs": [
    {
     "name": "stdout",
     "output_type": "stream",
     "text": [
      "  label: ['0.000', '1.000', '1.000', '0.000', '0.000', '0.000', '1.000', '1.000', '1.000', '0.000']\n",
      "predict: ['0.393', '0.676', '0.610', '0.267', '0.413', '0.266', '0.709', '0.700', '0.752', '0.286']\n"
     ]
    }
   ],
   "source": [
    "label = list(map(lambda x: \"%.3f\"%float(x), train_labels[:10]))\n",
    "pred_p = list(map(lambda x: \"%.3f\"%float(x), pred.flatten()[:10]))\n",
    "print(\"  label:\",label)\n",
    "print(\"predict:\",pred_p)"
   ]
  },
  {
   "cell_type": "markdown",
   "metadata": {},
   "source": [
    "此处可以打印10张图片，验证是否正确"
   ]
  },
  {
   "cell_type": "code",
   "execution_count": null,
   "metadata": {
    "collapsed": true
   },
   "outputs": [],
   "source": []
  }
 ],
 "metadata": {
  "kernelspec": {
   "display_name": "Python 3",
   "language": "python",
   "name": "python3"
  },
  "language_info": {
   "codemirror_mode": {
    "name": "ipython",
    "version": 3
   },
   "file_extension": ".py",
   "mimetype": "text/x-python",
   "name": "python",
   "nbconvert_exporter": "python",
   "pygments_lexer": "ipython3",
   "version": "3.6.2"
  }
 },
 "nbformat": 4,
 "nbformat_minor": 2
}
