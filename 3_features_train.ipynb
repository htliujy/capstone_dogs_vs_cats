{
 "cells": [
  {
   "cell_type": "markdown",
   "metadata": {},
   "source": [
    "载入特征文件（）并建立网络，分类，进行训练，"
   ]
  },
  {
   "cell_type": "code",
   "execution_count": 11,
   "metadata": {},
   "outputs": [],
   "source": [
    "import h5py\n",
    "import numpy as np\n",
    "from sklearn.utils import shuffle\n",
    "np.random.seed(0)"
   ]
  },
  {
   "cell_type": "code",
   "execution_count": 12,
   "metadata": {},
   "outputs": [],
   "source": [
    "train_features = []\n",
    "test_features = []\n",
    "train_labels = []\n",
    "\n",
    "with h5py.File(\"xception_bottleneck.h5\", 'r') as h:\n",
    "    train_features.append(np.array(h['train_features']))\n",
    "    test_features.append(np.array(h['test_features']))\n",
    "    train_labels = np.array(h['train_label'])"
   ]
  },
  {
   "cell_type": "code",
   "execution_count": 13,
   "metadata": {},
   "outputs": [],
   "source": [
    "train_features = train_features[0]\n",
    "test_features = test_features[0]"
   ]
  },
  {
   "cell_type": "code",
   "execution_count": 14,
   "metadata": {},
   "outputs": [
    {
     "name": "stdout",
     "output_type": "stream",
     "text": [
      "train_features shape: (24998, 2048)\n",
      "test_features shape: (12500, 2048)\n",
      "train_labels shape: (24998,)\n"
     ]
    }
   ],
   "source": [
    "#验证数据集的形状是否正确\n",
    "print(\"train_features shape:\",np.shape(train_features))\n",
    "print(\"test_features shape:\",np.shape(test_features))\n",
    "print(\"train_labels shape:\",np.shape(train_labels))"
   ]
  },
  {
   "cell_type": "code",
   "execution_count": 15,
   "metadata": {},
   "outputs": [],
   "source": [
    "#是否打乱\n",
    "train_features, train_labels = shuffle(train_features, train_labels)"
   ]
  },
  {
   "cell_type": "markdown",
   "metadata": {},
   "source": [
    "构建网络"
   ]
  },
  {
   "cell_type": "code",
   "execution_count": 16,
   "metadata": {},
   "outputs": [],
   "source": [
    "from keras.layers import Input, Dropout, Dense\n",
    "from keras.models import Model\n",
    "from keras import optimizers\n",
    "from keras.callbacks import TensorBoard"
   ]
  },
  {
   "cell_type": "code",
   "execution_count": 17,
   "metadata": {},
   "outputs": [],
   "source": [
    "inputlayer = Input(shape=(train_features.shape[1:]))"
   ]
  },
  {
   "cell_type": "code",
   "execution_count": 18,
   "metadata": {},
   "outputs": [
    {
     "name": "stderr",
     "output_type": "stream",
     "text": [
      "/home/ubuntu/anaconda3/envs/tensorflow_p36/lib/python3.6/site-packages/ipykernel/__main__.py:9: UserWarning: Update your `Model` call to the Keras 2 API: `Model(inputs=Tensor(\"in..., outputs=Tensor(\"de...)`\n"
     ]
    }
   ],
   "source": [
    "x = inputlayer\n",
    "\n",
    "x = Dropout(0.85)(x)\n",
    "\n",
    "x = Dense(512, activation='relu')(x)\n",
    "x = Dropout(0.85)(x)\n",
    "outlayer = Dense(1, activation='sigmoid')(x)\n",
    "\n",
    "model = Model(input=inputlayer, output=outlayer)"
   ]
  },
  {
   "cell_type": "code",
   "execution_count": 19,
   "metadata": {},
   "outputs": [
    {
     "name": "stderr",
     "output_type": "stream",
     "text": [
      "/home/ubuntu/anaconda3/envs/tensorflow_p36/lib/python3.6/site-packages/ipykernel/__main__.py:4: UserWarning: The `nb_epoch` argument in `fit` has been renamed `epochs`.\n"
     ]
    },
    {
     "name": "stdout",
     "output_type": "stream",
     "text": [
      "Train on 19998 samples, validate on 5000 samples\n",
      "Epoch 1/100\n",
      "19998/19998 [==============================] - 1s 41us/step - loss: 0.9054 - acc: 0.5297 - val_loss: 0.5580 - val_acc: 0.8962\n",
      "Epoch 2/100\n",
      "19998/19998 [==============================] - 1s 39us/step - loss: 0.7718 - acc: 0.5926 - val_loss: 0.4740 - val_acc: 0.9698\n",
      "Epoch 3/100\n",
      "19998/19998 [==============================] - 1s 39us/step - loss: 0.6908 - acc: 0.6381 - val_loss: 0.4136 - val_acc: 0.9844\n",
      "Epoch 4/100\n",
      "19998/19998 [==============================] - 1s 39us/step - loss: 0.6146 - acc: 0.6843 - val_loss: 0.3689 - val_acc: 0.9868\n",
      "Epoch 5/100\n",
      "19998/19998 [==============================] - 1s 39us/step - loss: 0.5599 - acc: 0.7137 - val_loss: 0.3327 - val_acc: 0.9882\n",
      "Epoch 6/100\n",
      "19998/19998 [==============================] - 1s 39us/step - loss: 0.5182 - acc: 0.7434 - val_loss: 0.3035 - val_acc: 0.9902\n",
      "Epoch 7/100\n",
      "19998/19998 [==============================] - 1s 39us/step - loss: 0.4854 - acc: 0.7665 - val_loss: 0.2792 - val_acc: 0.9912\n",
      "Epoch 8/100\n",
      "19998/19998 [==============================] - 1s 39us/step - loss: 0.4521 - acc: 0.7884 - val_loss: 0.2578 - val_acc: 0.9912\n",
      "Epoch 9/100\n",
      "19998/19998 [==============================] - 1s 39us/step - loss: 0.4212 - acc: 0.8086 - val_loss: 0.2398 - val_acc: 0.9914\n",
      "Epoch 10/100\n",
      "19998/19998 [==============================] - 1s 39us/step - loss: 0.4018 - acc: 0.8220 - val_loss: 0.2239 - val_acc: 0.9918\n",
      "Epoch 11/100\n",
      "19998/19998 [==============================] - 1s 39us/step - loss: 0.3769 - acc: 0.8345 - val_loss: 0.2094 - val_acc: 0.9916\n",
      "Epoch 12/100\n",
      "19998/19998 [==============================] - 1s 39us/step - loss: 0.3666 - acc: 0.8399 - val_loss: 0.1970 - val_acc: 0.9918\n",
      "Epoch 13/100\n",
      "19998/19998 [==============================] - 1s 39us/step - loss: 0.3481 - acc: 0.8530 - val_loss: 0.1857 - val_acc: 0.9920\n",
      "Epoch 14/100\n",
      "19998/19998 [==============================] - 1s 39us/step - loss: 0.3321 - acc: 0.8598 - val_loss: 0.1750 - val_acc: 0.9920\n",
      "Epoch 15/100\n",
      "19998/19998 [==============================] - 1s 39us/step - loss: 0.3165 - acc: 0.8704 - val_loss: 0.1654 - val_acc: 0.9920\n",
      "Epoch 16/100\n",
      "19998/19998 [==============================] - 1s 39us/step - loss: 0.3087 - acc: 0.8719 - val_loss: 0.1565 - val_acc: 0.9920\n",
      "Epoch 17/100\n",
      "19998/19998 [==============================] - 1s 40us/step - loss: 0.2915 - acc: 0.8846 - val_loss: 0.1486 - val_acc: 0.9920\n",
      "Epoch 18/100\n",
      "19998/19998 [==============================] - 1s 39us/step - loss: 0.2776 - acc: 0.8905 - val_loss: 0.1417 - val_acc: 0.9920\n",
      "Epoch 19/100\n",
      "19998/19998 [==============================] - 1s 39us/step - loss: 0.2754 - acc: 0.8916 - val_loss: 0.1352 - val_acc: 0.9920\n",
      "Epoch 20/100\n",
      "19998/19998 [==============================] - 1s 39us/step - loss: 0.2617 - acc: 0.8969 - val_loss: 0.1293 - val_acc: 0.9922\n",
      "Epoch 21/100\n",
      "19998/19998 [==============================] - 1s 39us/step - loss: 0.2560 - acc: 0.9030 - val_loss: 0.1234 - val_acc: 0.9922\n",
      "Epoch 22/100\n",
      "19998/19998 [==============================] - 1s 39us/step - loss: 0.2504 - acc: 0.9012 - val_loss: 0.1180 - val_acc: 0.9922\n",
      "Epoch 23/100\n",
      "19998/19998 [==============================] - 1s 39us/step - loss: 0.2372 - acc: 0.9100 - val_loss: 0.1131 - val_acc: 0.9922\n",
      "Epoch 24/100\n",
      "19998/19998 [==============================] - 1s 39us/step - loss: 0.2346 - acc: 0.9135 - val_loss: 0.1090 - val_acc: 0.9922\n",
      "Epoch 25/100\n",
      "19998/19998 [==============================] - 1s 40us/step - loss: 0.2346 - acc: 0.9123 - val_loss: 0.1049 - val_acc: 0.9922\n",
      "Epoch 26/100\n",
      "19998/19998 [==============================] - 1s 39us/step - loss: 0.2226 - acc: 0.9171 - val_loss: 0.1010 - val_acc: 0.9922\n",
      "Epoch 27/100\n",
      "19998/19998 [==============================] - 1s 39us/step - loss: 0.2214 - acc: 0.9169 - val_loss: 0.0971 - val_acc: 0.9922\n",
      "Epoch 28/100\n",
      "19998/19998 [==============================] - 1s 39us/step - loss: 0.2111 - acc: 0.9217 - val_loss: 0.0942 - val_acc: 0.9922\n",
      "Epoch 29/100\n",
      "19998/19998 [==============================] - 1s 39us/step - loss: 0.2093 - acc: 0.9239 - val_loss: 0.0913 - val_acc: 0.9920\n",
      "Epoch 30/100\n",
      "19998/19998 [==============================] - 1s 39us/step - loss: 0.1995 - acc: 0.9267 - val_loss: 0.0881 - val_acc: 0.9920\n",
      "Epoch 31/100\n",
      "19998/19998 [==============================] - 1s 39us/step - loss: 0.1967 - acc: 0.9276 - val_loss: 0.0854 - val_acc: 0.9920\n",
      "Epoch 32/100\n",
      "19998/19998 [==============================] - 1s 40us/step - loss: 0.2016 - acc: 0.9282 - val_loss: 0.0830 - val_acc: 0.9920\n",
      "Epoch 33/100\n",
      "19998/19998 [==============================] - 1s 39us/step - loss: 0.1925 - acc: 0.9313 - val_loss: 0.0805 - val_acc: 0.9920\n",
      "Epoch 34/100\n",
      "19998/19998 [==============================] - 1s 39us/step - loss: 0.1805 - acc: 0.9370 - val_loss: 0.0782 - val_acc: 0.9920\n",
      "Epoch 35/100\n",
      "19998/19998 [==============================] - 1s 39us/step - loss: 0.1849 - acc: 0.9326 - val_loss: 0.0763 - val_acc: 0.9920\n",
      "Epoch 36/100\n",
      "19998/19998 [==============================] - 1s 39us/step - loss: 0.1851 - acc: 0.9336 - val_loss: 0.0742 - val_acc: 0.9920\n",
      "Epoch 37/100\n",
      "19998/19998 [==============================] - 1s 39us/step - loss: 0.1797 - acc: 0.9350 - val_loss: 0.0722 - val_acc: 0.9920\n",
      "Epoch 38/100\n",
      "19998/19998 [==============================] - 1s 39us/step - loss: 0.1764 - acc: 0.9367 - val_loss: 0.0706 - val_acc: 0.9922\n",
      "Epoch 39/100\n",
      "19998/19998 [==============================] - 1s 39us/step - loss: 0.1732 - acc: 0.9386 - val_loss: 0.0687 - val_acc: 0.9920\n",
      "Epoch 40/100\n",
      "19998/19998 [==============================] - 1s 39us/step - loss: 0.1688 - acc: 0.9417 - val_loss: 0.0673 - val_acc: 0.9924\n",
      "Epoch 41/100\n",
      "19998/19998 [==============================] - 1s 39us/step - loss: 0.1697 - acc: 0.9401 - val_loss: 0.0655 - val_acc: 0.9920\n",
      "Epoch 42/100\n",
      "19998/19998 [==============================] - 1s 39us/step - loss: 0.1682 - acc: 0.9403 - val_loss: 0.0645 - val_acc: 0.9924\n",
      "Epoch 43/100\n",
      "19998/19998 [==============================] - 1s 39us/step - loss: 0.1621 - acc: 0.9433 - val_loss: 0.0630 - val_acc: 0.9924\n",
      "Epoch 44/100\n",
      "19998/19998 [==============================] - 1s 39us/step - loss: 0.1587 - acc: 0.9437 - val_loss: 0.0616 - val_acc: 0.9922\n",
      "Epoch 45/100\n",
      "19998/19998 [==============================] - 1s 39us/step - loss: 0.1559 - acc: 0.9467 - val_loss: 0.0603 - val_acc: 0.9920\n",
      "Epoch 46/100\n",
      "19998/19998 [==============================] - 1s 39us/step - loss: 0.1515 - acc: 0.9476 - val_loss: 0.0592 - val_acc: 0.9922\n",
      "Epoch 47/100\n",
      "19998/19998 [==============================] - 1s 40us/step - loss: 0.1516 - acc: 0.9466 - val_loss: 0.0583 - val_acc: 0.9924\n",
      "Epoch 48/100\n",
      "19998/19998 [==============================] - 1s 39us/step - loss: 0.1505 - acc: 0.9493 - val_loss: 0.0573 - val_acc: 0.9924\n",
      "Epoch 49/100\n",
      "19998/19998 [==============================] - 1s 39us/step - loss: 0.1454 - acc: 0.9473 - val_loss: 0.0563 - val_acc: 0.9924\n",
      "Epoch 50/100\n",
      "19998/19998 [==============================] - 1s 39us/step - loss: 0.1432 - acc: 0.9521 - val_loss: 0.0551 - val_acc: 0.9924\n",
      "Epoch 51/100\n",
      "19998/19998 [==============================] - 1s 38us/step - loss: 0.1471 - acc: 0.9475 - val_loss: 0.0543 - val_acc: 0.9922\n",
      "Epoch 52/100\n",
      "19998/19998 [==============================] - 1s 39us/step - loss: 0.1453 - acc: 0.9511 - val_loss: 0.0535 - val_acc: 0.9922\n",
      "Epoch 53/100\n",
      "19998/19998 [==============================] - 1s 39us/step - loss: 0.1414 - acc: 0.9528 - val_loss: 0.0527 - val_acc: 0.9922\n",
      "Epoch 54/100\n",
      "19998/19998 [==============================] - 1s 39us/step - loss: 0.1410 - acc: 0.9520 - val_loss: 0.0518 - val_acc: 0.9922\n",
      "Epoch 55/100\n",
      "19998/19998 [==============================] - 1s 39us/step - loss: 0.1392 - acc: 0.9549 - val_loss: 0.0509 - val_acc: 0.9922\n",
      "Epoch 56/100\n",
      "19998/19998 [==============================] - 1s 39us/step - loss: 0.1345 - acc: 0.9544 - val_loss: 0.0503 - val_acc: 0.9922\n",
      "Epoch 57/100\n",
      "19998/19998 [==============================] - 1s 40us/step - loss: 0.1348 - acc: 0.9532 - val_loss: 0.0498 - val_acc: 0.9922\n",
      "Epoch 58/100\n",
      "19998/19998 [==============================] - 1s 39us/step - loss: 0.1301 - acc: 0.9553 - val_loss: 0.0493 - val_acc: 0.9922\n",
      "Epoch 59/100\n"
     ]
    },
    {
     "name": "stdout",
     "output_type": "stream",
     "text": [
      "19998/19998 [==============================] - 1s 39us/step - loss: 0.1339 - acc: 0.9547 - val_loss: 0.0485 - val_acc: 0.9922\n",
      "Epoch 60/100\n",
      "19998/19998 [==============================] - 1s 39us/step - loss: 0.1314 - acc: 0.9557 - val_loss: 0.0480 - val_acc: 0.9922\n",
      "Epoch 61/100\n",
      "19998/19998 [==============================] - 1s 39us/step - loss: 0.1326 - acc: 0.9552 - val_loss: 0.0475 - val_acc: 0.9922\n",
      "Epoch 62/100\n",
      "19998/19998 [==============================] - 1s 40us/step - loss: 0.1281 - acc: 0.9532 - val_loss: 0.0468 - val_acc: 0.9922\n",
      "Epoch 63/100\n",
      "19998/19998 [==============================] - 1s 39us/step - loss: 0.1295 - acc: 0.9558 - val_loss: 0.0461 - val_acc: 0.9922\n",
      "Epoch 64/100\n",
      "19998/19998 [==============================] - 1s 39us/step - loss: 0.1263 - acc: 0.9573 - val_loss: 0.0455 - val_acc: 0.9922\n",
      "Epoch 65/100\n",
      "19998/19998 [==============================] - 1s 39us/step - loss: 0.1268 - acc: 0.9560 - val_loss: 0.0451 - val_acc: 0.9922\n",
      "Epoch 66/100\n",
      "19998/19998 [==============================] - 1s 39us/step - loss: 0.1275 - acc: 0.9565 - val_loss: 0.0447 - val_acc: 0.9920\n",
      "Epoch 67/100\n",
      "19998/19998 [==============================] - 1s 39us/step - loss: 0.1232 - acc: 0.9566 - val_loss: 0.0442 - val_acc: 0.9920\n",
      "Epoch 68/100\n",
      "19998/19998 [==============================] - 1s 39us/step - loss: 0.1261 - acc: 0.9571 - val_loss: 0.0437 - val_acc: 0.9920\n",
      "Epoch 69/100\n",
      "19998/19998 [==============================] - 1s 39us/step - loss: 0.1230 - acc: 0.9574 - val_loss: 0.0435 - val_acc: 0.9922\n",
      "Epoch 70/100\n",
      "19998/19998 [==============================] - 1s 39us/step - loss: 0.1210 - acc: 0.9574 - val_loss: 0.0430 - val_acc: 0.9922\n",
      "Epoch 71/100\n",
      "19998/19998 [==============================] - 1s 39us/step - loss: 0.1213 - acc: 0.9578 - val_loss: 0.0425 - val_acc: 0.9920\n",
      "Epoch 72/100\n",
      "19998/19998 [==============================] - 1s 39us/step - loss: 0.1183 - acc: 0.9596 - val_loss: 0.0418 - val_acc: 0.9920\n",
      "Epoch 73/100\n",
      "19998/19998 [==============================] - 1s 39us/step - loss: 0.1200 - acc: 0.9600 - val_loss: 0.0415 - val_acc: 0.9920\n",
      "Epoch 74/100\n",
      "19998/19998 [==============================] - 1s 39us/step - loss: 0.1146 - acc: 0.9613 - val_loss: 0.0412 - val_acc: 0.9920\n",
      "Epoch 75/100\n",
      "19998/19998 [==============================] - 1s 39us/step - loss: 0.1146 - acc: 0.9628 - val_loss: 0.0411 - val_acc: 0.9922\n",
      "Epoch 76/100\n",
      "19998/19998 [==============================] - 1s 39us/step - loss: 0.1138 - acc: 0.9608 - val_loss: 0.0406 - val_acc: 0.9922\n",
      "Epoch 77/100\n",
      "19998/19998 [==============================] - 1s 39us/step - loss: 0.1136 - acc: 0.9615 - val_loss: 0.0404 - val_acc: 0.9922\n",
      "Epoch 78/100\n",
      "19998/19998 [==============================] - 1s 39us/step - loss: 0.1119 - acc: 0.9628 - val_loss: 0.0400 - val_acc: 0.9922\n",
      "Epoch 79/100\n",
      "19998/19998 [==============================] - 1s 39us/step - loss: 0.1147 - acc: 0.9616 - val_loss: 0.0397 - val_acc: 0.9922\n",
      "Epoch 80/100\n",
      "19998/19998 [==============================] - 1s 39us/step - loss: 0.1102 - acc: 0.9637 - val_loss: 0.0394 - val_acc: 0.9922\n",
      "Epoch 81/100\n",
      "19998/19998 [==============================] - 1s 39us/step - loss: 0.1134 - acc: 0.9617 - val_loss: 0.0390 - val_acc: 0.9922\n",
      "Epoch 82/100\n",
      "19998/19998 [==============================] - 1s 40us/step - loss: 0.1153 - acc: 0.9610 - val_loss: 0.0386 - val_acc: 0.9922\n",
      "Epoch 83/100\n",
      "19998/19998 [==============================] - 1s 39us/step - loss: 0.1084 - acc: 0.9628 - val_loss: 0.0383 - val_acc: 0.9922\n",
      "Epoch 84/100\n",
      "19998/19998 [==============================] - 1s 39us/step - loss: 0.1108 - acc: 0.9630 - val_loss: 0.0381 - val_acc: 0.9922\n",
      "Epoch 85/100\n",
      "19998/19998 [==============================] - 1s 39us/step - loss: 0.1110 - acc: 0.9633 - val_loss: 0.0380 - val_acc: 0.9924\n",
      "Epoch 86/100\n",
      "19998/19998 [==============================] - 1s 40us/step - loss: 0.1139 - acc: 0.9612 - val_loss: 0.0377 - val_acc: 0.9924\n",
      "Epoch 87/100\n",
      "19998/19998 [==============================] - 1s 39us/step - loss: 0.1094 - acc: 0.9653 - val_loss: 0.0375 - val_acc: 0.9924\n",
      "Epoch 88/100\n",
      "19998/19998 [==============================] - 1s 39us/step - loss: 0.1070 - acc: 0.9642 - val_loss: 0.0373 - val_acc: 0.9924\n",
      "Epoch 89/100\n",
      "19998/19998 [==============================] - 1s 39us/step - loss: 0.1068 - acc: 0.9646 - val_loss: 0.0371 - val_acc: 0.9926\n",
      "Epoch 90/100\n",
      "19998/19998 [==============================] - 1s 39us/step - loss: 0.1016 - acc: 0.9626 - val_loss: 0.0368 - val_acc: 0.9924\n",
      "Epoch 91/100\n",
      "19998/19998 [==============================] - 1s 39us/step - loss: 0.1095 - acc: 0.9621 - val_loss: 0.0367 - val_acc: 0.9926\n",
      "Epoch 92/100\n",
      "19998/19998 [==============================] - 1s 40us/step - loss: 0.1029 - acc: 0.9642 - val_loss: 0.0365 - val_acc: 0.9926\n",
      "Epoch 93/100\n",
      "19998/19998 [==============================] - 1s 39us/step - loss: 0.1022 - acc: 0.9652 - val_loss: 0.0363 - val_acc: 0.9926\n",
      "Epoch 94/100\n",
      "19998/19998 [==============================] - 1s 39us/step - loss: 0.1079 - acc: 0.9636 - val_loss: 0.0362 - val_acc: 0.9926\n",
      "Epoch 95/100\n",
      "19998/19998 [==============================] - 1s 40us/step - loss: 0.1067 - acc: 0.9654 - val_loss: 0.0359 - val_acc: 0.9926\n",
      "Epoch 96/100\n",
      "19998/19998 [==============================] - 1s 39us/step - loss: 0.1046 - acc: 0.9660 - val_loss: 0.0357 - val_acc: 0.9926\n",
      "Epoch 97/100\n",
      "19998/19998 [==============================] - 1s 39us/step - loss: 0.1025 - acc: 0.9674 - val_loss: 0.0356 - val_acc: 0.9928\n",
      "Epoch 98/100\n",
      "19998/19998 [==============================] - 1s 39us/step - loss: 0.1040 - acc: 0.9639 - val_loss: 0.0355 - val_acc: 0.9928\n",
      "Epoch 99/100\n",
      "19998/19998 [==============================] - 1s 39us/step - loss: 0.1021 - acc: 0.9659 - val_loss: 0.0352 - val_acc: 0.9928\n",
      "Epoch 100/100\n",
      "19998/19998 [==============================] - 1s 39us/step - loss: 0.1079 - acc: 0.9642 - val_loss: 0.0351 - val_acc: 0.9928\n"
     ]
    }
   ],
   "source": [
    "#优化器参考：https://keras.io/optimizers/\n",
    "opt = optimizers.SGD(lr=0.0001, momentum=0.9)\n",
    "model.compile(loss='binary_crossentropy', optimizer=opt, metrics=['accuracy'])\n",
    "model.fit(train_features,train_labels,nb_epoch=100,verbose=1,validation_split=0.2, batch_size=128, callbacks=[TensorBoard(log_dir='./log')])\n",
    "model.save('model.h5')"
   ]
  },
  {
   "cell_type": "code",
   "execution_count": 20,
   "metadata": {},
   "outputs": [
    {
     "name": "stdout",
     "output_type": "stream",
     "text": [
      "[1 0 1 1 1 1 1 0 0 0]\n",
      "[ 0.97093177  0.005       0.97584379  0.98585123  0.95861667  0.99206614\n",
      "  0.995       0.005       0.005       0.005     ]\n"
     ]
    }
   ],
   "source": [
    "# 都预测为0.5的情况下，loss = 0.69314\n",
    "pred = model.predict(train_features, batch_size=None, verbose=0, steps=None)\n",
    "pred = pred.clip(min=0.005, max=0.995)\n",
    "\n",
    "print(train_labels[:10])\n",
    "print(pred.flatten()[:10])"
   ]
  }
 ],
 "metadata": {
  "kernelspec": {
   "display_name": "Python [default]",
   "language": "python",
   "name": "python3"
  },
  "language_info": {
   "codemirror_mode": {
    "name": "ipython",
    "version": 3
   },
   "file_extension": ".py",
   "mimetype": "text/x-python",
   "name": "python",
   "nbconvert_exporter": "python",
   "pygments_lexer": "ipython3",
   "version": "3.6.3"
  }
 },
 "nbformat": 4,
 "nbformat_minor": 2
}
