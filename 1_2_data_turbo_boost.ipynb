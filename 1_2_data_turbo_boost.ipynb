{
 "cells": [
  {
   "cell_type": "markdown",
   "metadata": {},
   "source": [
    "数据增强： \n",
    "-- 1、10%图片左旋（） \n",
    "-- 2、10%图片右旋 \n",
    "-- 3、20%图片旋转180度 \n",
    "-- 4、10%图片调亮25% \n",
    "-- 5、10%图片调暗25%\n"
   ]
  },
  {
   "cell_type": "code",
   "execution_count": 4,
   "metadata": {
    "collapsed": true
   },
   "outputs": [],
   "source": [
    "import data_process\n",
    "import cv2\n",
    "from scipy.ndimage.interpolation import shift"
   ]
  },
  {
   "cell_type": "code",
   "execution_count": 5,
   "metadata": {
    "collapsed": true
   },
   "outputs": [],
   "source": [
    "\n",
    "def img_change_brightness(img): \n",
    "    # Convert the image to HSV\n",
    "    img = cv2.cvtColor(img, cv2.COLOR_BGR2HSV)\n",
    "    brightness = np.random.uniform(0.5,1) \n",
    "    img[:, :, 2] = img[:, :, 2] * brightness\n",
    "    # Convert back to RGB\n",
    "    return cv2.cvtColor(img, cv2.COLOR_HSV2BGR)"
   ]
  },
  {
   "cell_type": "code",
   "execution_count": null,
   "metadata": {
    "collapsed": true
   },
   "outputs": [],
   "source": [
    "\n",
    "index = random.randint(0,len(train_images))\n",
    "for i in range(4):\n",
    "    plt.subplot(2,2,i+1)\n",
    "    img = [train_images[index],                         #原图\n",
    "           np.flipud(train_images[index]),              #上下翻转\n",
    "           np.fliplr(train_images[index]),              #左右翻转\n",
    "           img_change_brightness(train_images[index])]  #亮度调整 \n",
    "    plt.imshow(img[i])\n",
    "    plt.axis('off')"
   ]
  }
 ],
 "metadata": {
  "kernelspec": {
   "display_name": "Python 3",
   "language": "python",
   "name": "python3"
  },
  "language_info": {
   "codemirror_mode": {
    "name": "ipython",
    "version": 3
   },
   "file_extension": ".py",
   "mimetype": "text/x-python",
   "name": "python",
   "nbconvert_exporter": "python",
   "pygments_lexer": "ipython3",
   "version": "3.6.2"
  }
 },
 "nbformat": 4,
 "nbformat_minor": 2
}
